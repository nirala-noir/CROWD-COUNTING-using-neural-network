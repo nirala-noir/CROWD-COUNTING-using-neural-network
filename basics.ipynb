{
  "nbformat": 4,
  "nbformat_minor": 0,
  "metadata": {
    "kernelspec": {
      "display_name": "Python 3",
      "language": "python",
      "name": "python3"
    },
    "language_info": {
      "codemirror_mode": {
        "name": "ipython",
        "version": 3
      },
      "file_extension": ".py",
      "mimetype": "text/x-python",
      "name": "python",
      "nbconvert_exporter": "python",
      "pygments_lexer": "ipython3",
      "version": "3.7.4"
    },
    "colab": {
      "name": "1806048.ipynb",
      "provenance": [],
      "include_colab_link": true
    }
  },
  "cells": [
    {
      "cell_type": "markdown",
      "metadata": {
        "id": "view-in-github",
        "colab_type": "text"
      },
      "source": [
        "<a href=\"https://colab.research.google.com/github/nirala-noir/CROWD-COUNTING-using-neural-network--social-distancing/blob/main/basics.ipynb\" target=\"_parent\"><img src=\"https://colab.research.google.com/assets/colab-badge.svg\" alt=\"Open In Colab\"/></a>"
      ]
    },
    {
      "cell_type": "code",
      "metadata": {
        "colab": {
          "base_uri": "https://localhost:8080/",
          "height": 35
        },
        "id": "HtlmGPM8pViq",
        "outputId": "d715a3d1-a108-4db4-e7c3-9cf26c11572a"
      },
      "source": [
        "'''RAMAN KUMAR NIRALA\n",
        "1806048\n",
        "ARTIFICIAL-INTELLIGENCE'''"
      ],
      "execution_count": null,
      "outputs": [
        {
          "output_type": "execute_result",
          "data": {
            "application/vnd.google.colaboratory.intrinsic+json": {
              "type": "string"
            },
            "text/plain": [
              "'RAMAN KUMAR NIRALA\\n1806048\\nARTIFICIAL-INTELLIGENCE'"
            ]
          },
          "metadata": {
            "tags": []
          },
          "execution_count": 37
        }
      ]
    },
    {
      "cell_type": "code",
      "metadata": {
        "id": "w1E3IRQfpViy"
      },
      "source": [
        "import numpy as np\n",
        "import pandas as pd\n",
        "import matplotlib.pyplot as plt"
      ],
      "execution_count": null,
      "outputs": []
    },
    {
      "cell_type": "code",
      "metadata": {
        "id": "CW5u8uEQpViz"
      },
      "source": [
        "#DATASET"
      ],
      "execution_count": null,
      "outputs": []
    },
    {
      "cell_type": "code",
      "metadata": {
        "id": "k_XH-0CApViz"
      },
      "source": [
        "jarvis=pd.read_csv(\"severity.csv\")"
      ],
      "execution_count": null,
      "outputs": []
    },
    {
      "cell_type": "code",
      "metadata": {
        "colab": {
          "base_uri": "https://localhost:8080/",
          "height": 403
        },
        "id": "azSKQ8GUpViz",
        "outputId": "8e03e978-19d4-4c59-c209-e9f19c9e3e9e"
      },
      "source": [
        "jarvis"
      ],
      "execution_count": null,
      "outputs": [
        {
          "output_type": "execute_result",
          "data": {
            "text/html": [
              "<div>\n",
              "<style scoped>\n",
              "    .dataframe tbody tr th:only-of-type {\n",
              "        vertical-align: middle;\n",
              "    }\n",
              "\n",
              "    .dataframe tbody tr th {\n",
              "        vertical-align: top;\n",
              "    }\n",
              "\n",
              "    .dataframe thead th {\n",
              "        text-align: right;\n",
              "    }\n",
              "</style>\n",
              "<table border=\"1\" class=\"dataframe\">\n",
              "  <thead>\n",
              "    <tr style=\"text-align: right;\">\n",
              "      <th></th>\n",
              "      <th>a</th>\n",
              "      <th>b</th>\n",
              "      <th>c</th>\n",
              "      <th>d</th>\n",
              "      <th>e</th>\n",
              "      <th>f</th>\n",
              "      <th>g</th>\n",
              "      <th>h</th>\n",
              "      <th>i</th>\n",
              "      <th>j</th>\n",
              "      <th>k</th>\n",
              "      <th>l</th>\n",
              "      <th>m</th>\n",
              "      <th>n</th>\n",
              "      <th>o</th>\n",
              "      <th>p</th>\n",
              "      <th>q</th>\n",
              "      <th>r</th>\n",
              "      <th>s</th>\n",
              "      <th>t</th>\n",
              "      <th>severity</th>\n",
              "    </tr>\n",
              "  </thead>\n",
              "  <tbody>\n",
              "    <tr>\n",
              "      <th>0</th>\n",
              "      <td>1</td>\n",
              "      <td>1</td>\n",
              "      <td>1</td>\n",
              "      <td>1</td>\n",
              "      <td>1</td>\n",
              "      <td>6</td>\n",
              "      <td>11</td>\n",
              "      <td>2</td>\n",
              "      <td>1</td>\n",
              "      <td>1</td>\n",
              "      <td>4</td>\n",
              "      <td>1</td>\n",
              "      <td>1</td>\n",
              "      <td>2</td>\n",
              "      <td>1</td>\n",
              "      <td>1</td>\n",
              "      <td>0</td>\n",
              "      <td>1</td>\n",
              "      <td>1</td>\n",
              "      <td>2</td>\n",
              "      <td>2</td>\n",
              "    </tr>\n",
              "    <tr>\n",
              "      <th>1</th>\n",
              "      <td>0</td>\n",
              "      <td>0</td>\n",
              "      <td>1</td>\n",
              "      <td>1</td>\n",
              "      <td>2</td>\n",
              "      <td>1</td>\n",
              "      <td>11</td>\n",
              "      <td>1</td>\n",
              "      <td>1</td>\n",
              "      <td>1</td>\n",
              "      <td>6</td>\n",
              "      <td>0</td>\n",
              "      <td>0</td>\n",
              "      <td>4</td>\n",
              "      <td>1</td>\n",
              "      <td>2</td>\n",
              "      <td>0</td>\n",
              "      <td>3</td>\n",
              "      <td>3</td>\n",
              "      <td>3</td>\n",
              "      <td>1</td>\n",
              "    </tr>\n",
              "    <tr>\n",
              "      <th>2</th>\n",
              "      <td>1</td>\n",
              "      <td>0</td>\n",
              "      <td>2</td>\n",
              "      <td>1</td>\n",
              "      <td>1</td>\n",
              "      <td>3</td>\n",
              "      <td>11</td>\n",
              "      <td>2</td>\n",
              "      <td>1</td>\n",
              "      <td>1</td>\n",
              "      <td>6</td>\n",
              "      <td>0</td>\n",
              "      <td>0</td>\n",
              "      <td>4</td>\n",
              "      <td>1</td>\n",
              "      <td>2</td>\n",
              "      <td>0</td>\n",
              "      <td>3</td>\n",
              "      <td>0</td>\n",
              "      <td>1</td>\n",
              "      <td>0</td>\n",
              "    </tr>\n",
              "    <tr>\n",
              "      <th>3</th>\n",
              "      <td>1</td>\n",
              "      <td>0</td>\n",
              "      <td>1</td>\n",
              "      <td>1</td>\n",
              "      <td>2</td>\n",
              "      <td>1</td>\n",
              "      <td>11</td>\n",
              "      <td>2</td>\n",
              "      <td>1</td>\n",
              "      <td>1</td>\n",
              "      <td>1</td>\n",
              "      <td>1</td>\n",
              "      <td>1</td>\n",
              "      <td>4</td>\n",
              "      <td>2</td>\n",
              "      <td>2</td>\n",
              "      <td>0</td>\n",
              "      <td>3</td>\n",
              "      <td>1</td>\n",
              "      <td>0</td>\n",
              "      <td>2</td>\n",
              "    </tr>\n",
              "    <tr>\n",
              "      <th>4</th>\n",
              "      <td>1</td>\n",
              "      <td>0</td>\n",
              "      <td>1</td>\n",
              "      <td>1</td>\n",
              "      <td>1</td>\n",
              "      <td>0</td>\n",
              "      <td>11</td>\n",
              "      <td>3</td>\n",
              "      <td>0</td>\n",
              "      <td>1</td>\n",
              "      <td>0</td>\n",
              "      <td>1</td>\n",
              "      <td>1</td>\n",
              "      <td>0</td>\n",
              "      <td>0</td>\n",
              "      <td>2</td>\n",
              "      <td>0</td>\n",
              "      <td>0</td>\n",
              "      <td>1</td>\n",
              "      <td>0</td>\n",
              "      <td>1</td>\n",
              "    </tr>\n",
              "    <tr>\n",
              "      <th>...</th>\n",
              "      <td>...</td>\n",
              "      <td>...</td>\n",
              "      <td>...</td>\n",
              "      <td>...</td>\n",
              "      <td>...</td>\n",
              "      <td>...</td>\n",
              "      <td>...</td>\n",
              "      <td>...</td>\n",
              "      <td>...</td>\n",
              "      <td>...</td>\n",
              "      <td>...</td>\n",
              "      <td>...</td>\n",
              "      <td>...</td>\n",
              "      <td>...</td>\n",
              "      <td>...</td>\n",
              "      <td>...</td>\n",
              "      <td>...</td>\n",
              "      <td>...</td>\n",
              "      <td>...</td>\n",
              "      <td>...</td>\n",
              "      <td>...</td>\n",
              "    </tr>\n",
              "    <tr>\n",
              "      <th>969</th>\n",
              "      <td>1</td>\n",
              "      <td>0</td>\n",
              "      <td>1</td>\n",
              "      <td>0</td>\n",
              "      <td>1</td>\n",
              "      <td>0</td>\n",
              "      <td>1</td>\n",
              "      <td>4</td>\n",
              "      <td>1</td>\n",
              "      <td>1</td>\n",
              "      <td>5</td>\n",
              "      <td>0</td>\n",
              "      <td>0</td>\n",
              "      <td>4</td>\n",
              "      <td>1</td>\n",
              "      <td>2</td>\n",
              "      <td>0</td>\n",
              "      <td>0</td>\n",
              "      <td>5</td>\n",
              "      <td>0</td>\n",
              "      <td>3</td>\n",
              "    </tr>\n",
              "    <tr>\n",
              "      <th>970</th>\n",
              "      <td>0</td>\n",
              "      <td>1</td>\n",
              "      <td>0</td>\n",
              "      <td>1</td>\n",
              "      <td>4</td>\n",
              "      <td>3</td>\n",
              "      <td>1</td>\n",
              "      <td>0</td>\n",
              "      <td>0</td>\n",
              "      <td>1</td>\n",
              "      <td>0</td>\n",
              "      <td>2</td>\n",
              "      <td>1</td>\n",
              "      <td>4</td>\n",
              "      <td>2</td>\n",
              "      <td>1</td>\n",
              "      <td>4</td>\n",
              "      <td>3</td>\n",
              "      <td>5</td>\n",
              "      <td>1</td>\n",
              "      <td>3</td>\n",
              "    </tr>\n",
              "    <tr>\n",
              "      <th>971</th>\n",
              "      <td>1</td>\n",
              "      <td>1</td>\n",
              "      <td>1</td>\n",
              "      <td>1</td>\n",
              "      <td>3</td>\n",
              "      <td>0</td>\n",
              "      <td>2</td>\n",
              "      <td>1</td>\n",
              "      <td>1</td>\n",
              "      <td>1</td>\n",
              "      <td>1</td>\n",
              "      <td>1</td>\n",
              "      <td>1</td>\n",
              "      <td>4</td>\n",
              "      <td>2</td>\n",
              "      <td>2</td>\n",
              "      <td>1</td>\n",
              "      <td>0</td>\n",
              "      <td>0</td>\n",
              "      <td>3</td>\n",
              "      <td>0</td>\n",
              "    </tr>\n",
              "    <tr>\n",
              "      <th>972</th>\n",
              "      <td>1</td>\n",
              "      <td>0</td>\n",
              "      <td>0</td>\n",
              "      <td>1</td>\n",
              "      <td>3</td>\n",
              "      <td>1</td>\n",
              "      <td>2</td>\n",
              "      <td>1</td>\n",
              "      <td>1</td>\n",
              "      <td>1</td>\n",
              "      <td>3</td>\n",
              "      <td>2</td>\n",
              "      <td>1</td>\n",
              "      <td>0</td>\n",
              "      <td>0</td>\n",
              "      <td>2</td>\n",
              "      <td>1</td>\n",
              "      <td>3</td>\n",
              "      <td>0</td>\n",
              "      <td>1</td>\n",
              "      <td>0</td>\n",
              "    </tr>\n",
              "    <tr>\n",
              "      <th>973</th>\n",
              "      <td>1</td>\n",
              "      <td>1</td>\n",
              "      <td>0</td>\n",
              "      <td>0</td>\n",
              "      <td>4</td>\n",
              "      <td>5</td>\n",
              "      <td>2</td>\n",
              "      <td>3</td>\n",
              "      <td>0</td>\n",
              "      <td>1</td>\n",
              "      <td>0</td>\n",
              "      <td>1</td>\n",
              "      <td>1</td>\n",
              "      <td>4</td>\n",
              "      <td>0</td>\n",
              "      <td>2</td>\n",
              "      <td>4</td>\n",
              "      <td>4</td>\n",
              "      <td>1</td>\n",
              "      <td>3</td>\n",
              "      <td>2</td>\n",
              "    </tr>\n",
              "  </tbody>\n",
              "</table>\n",
              "<p>974 rows × 21 columns</p>\n",
              "</div>"
            ],
            "text/plain": [
              "     a  b  c  d  e  f   g  h  i  j  k  l  m  n  o  p  q  r  s  t  severity\n",
              "0    1  1  1  1  1  6  11  2  1  1  4  1  1  2  1  1  0  1  1  2         2\n",
              "1    0  0  1  1  2  1  11  1  1  1  6  0  0  4  1  2  0  3  3  3         1\n",
              "2    1  0  2  1  1  3  11  2  1  1  6  0  0  4  1  2  0  3  0  1         0\n",
              "3    1  0  1  1  2  1  11  2  1  1  1  1  1  4  2  2  0  3  1  0         2\n",
              "4    1  0  1  1  1  0  11  3  0  1  0  1  1  0  0  2  0  0  1  0         1\n",
              "..  .. .. .. .. .. ..  .. .. .. .. .. .. .. .. .. .. .. .. .. ..       ...\n",
              "969  1  0  1  0  1  0   1  4  1  1  5  0  0  4  1  2  0  0  5  0         3\n",
              "970  0  1  0  1  4  3   1  0  0  1  0  2  1  4  2  1  4  3  5  1         3\n",
              "971  1  1  1  1  3  0   2  1  1  1  1  1  1  4  2  2  1  0  0  3         0\n",
              "972  1  0  0  1  3  1   2  1  1  1  3  2  1  0  0  2  1  3  0  1         0\n",
              "973  1  1  0  0  4  5   2  3  0  1  0  1  1  4  0  2  4  4  1  3         2\n",
              "\n",
              "[974 rows x 21 columns]"
            ]
          },
          "metadata": {
            "tags": []
          },
          "execution_count": 41
        }
      ]
    },
    {
      "cell_type": "code",
      "metadata": {
        "id": "0XjMxRGMpVi0"
      },
      "source": [
        "x = jarvis.iloc[:,:-1].values\n",
        "y = jarvis.iloc[:,-1].values"
      ],
      "execution_count": null,
      "outputs": []
    },
    {
      "cell_type": "code",
      "metadata": {
        "colab": {
          "base_uri": "https://localhost:8080/"
        },
        "id": "5nPDVjv2pVi0",
        "outputId": "5cdd71e6-4df5-4da6-ec19-84735c9c3beb"
      },
      "source": [
        "x"
      ],
      "execution_count": null,
      "outputs": [
        {
          "output_type": "execute_result",
          "data": {
            "text/plain": [
              "array([[1, 1, 1, ..., 1, 1, 2],\n",
              "       [0, 0, 1, ..., 3, 3, 3],\n",
              "       [1, 0, 2, ..., 3, 0, 1],\n",
              "       ...,\n",
              "       [1, 1, 1, ..., 0, 0, 3],\n",
              "       [1, 0, 0, ..., 3, 0, 1],\n",
              "       [1, 1, 0, ..., 4, 1, 3]])"
            ]
          },
          "metadata": {
            "tags": []
          },
          "execution_count": 43
        }
      ]
    },
    {
      "cell_type": "code",
      "metadata": {
        "colab": {
          "base_uri": "https://localhost:8080/"
        },
        "id": "saLZuzC2pVi0",
        "outputId": "64f98389-15ae-4a7c-de00-eae77c758d7b"
      },
      "source": [
        "y"
      ],
      "execution_count": null,
      "outputs": [
        {
          "output_type": "execute_result",
          "data": {
            "text/plain": [
              "array([2, 1, 0, 2, 1, 2, 1, 2, 1, 1, 2, 1, 1, 2, 2, 3, 3, 3, 3, 2, 3, 2,\n",
              "       1, 2, 2, 1, 2, 0, 2, 3, 2, 2, 3, 0, 2, 1, 1, 3, 2, 2, 2, 2, 2, 2,\n",
              "       3, 1, 3, 3, 3, 2, 1, 2, 3, 2, 2, 3, 0, 2, 2, 2, 0, 1, 3, 2, 2, 1,\n",
              "       0, 2, 2, 0, 0, 0, 3, 3, 3, 2, 3, 3, 2, 3, 3, 0, 2, 0, 0, 2, 2, 2,\n",
              "       2, 0, 0, 3, 0, 2, 2, 1, 1, 2, 3, 3, 3, 0, 1, 3, 2, 3, 1, 3, 3, 3,\n",
              "       3, 3, 0, 2, 2, 2, 3, 2, 3, 2, 2, 0, 3, 3, 3, 3, 2, 1, 2, 2, 2, 2,\n",
              "       2, 2, 2, 1, 2, 0, 1, 0, 0, 1, 1, 3, 2, 2, 3, 0, 2, 3, 0, 2, 2, 0,\n",
              "       1, 2, 2, 3, 0, 2, 3, 3, 1, 0, 3, 1, 3, 3, 2, 0, 3, 3, 1, 3, 1, 1,\n",
              "       1, 2, 0, 3, 2, 3, 2, 2, 0, 3, 1, 2, 2, 0, 2, 3, 1, 2, 0, 3, 0, 2,\n",
              "       2, 3, 1, 3, 2, 1, 2, 3, 1, 3, 3, 3, 0, 3, 0, 3, 1, 2, 3, 3, 3, 3,\n",
              "       3, 2, 2, 0, 2, 0, 2, 2, 2, 2, 2, 3, 2, 2, 3, 3, 3, 1, 3, 2, 1, 0,\n",
              "       0, 1, 0, 0, 0, 2, 2, 2, 2, 3, 1, 0, 2, 0, 3, 2, 0, 1, 3, 0, 3, 1,\n",
              "       3, 1, 2, 0, 3, 2, 3, 2, 2, 3, 2, 3, 2, 0, 2, 3, 0, 2, 2, 1, 2, 2,\n",
              "       0, 2, 1, 0, 0, 1, 1, 2, 3, 0, 2, 2, 2, 0, 2, 3, 2, 2, 2, 2, 2, 1,\n",
              "       1, 2, 2, 3, 2, 2, 3, 1, 3, 2, 1, 0, 2, 3, 2, 1, 1, 0, 0, 3, 0, 1,\n",
              "       1, 1, 1, 2, 1, 0, 3, 0, 2, 2, 0, 2, 3, 1, 3, 3, 1, 3, 3, 1, 3, 3,\n",
              "       0, 1, 3, 3, 2, 2, 1, 2, 0, 0, 2, 0, 3, 1, 2, 3, 1, 3, 1, 3, 3, 3,\n",
              "       3, 2, 2, 3, 2, 2, 2, 2, 3, 2, 2, 2, 3, 3, 0, 2, 1, 3, 2, 3, 2, 2,\n",
              "       1, 3, 3, 2, 3, 2, 2, 0, 3, 1, 0, 1, 2, 2, 3, 3, 3, 3, 0, 0, 1, 1,\n",
              "       0, 0, 0, 1, 2, 3, 1, 3, 3, 1, 0, 3, 1, 3, 3, 3, 3, 2, 0, 1, 0, 0,\n",
              "       0, 0, 3, 3, 3, 3, 0, 2, 0, 0, 2, 3, 3, 3, 3, 2, 2, 2, 0, 0, 0, 2,\n",
              "       0, 0, 3, 2, 0, 0, 2, 0, 1, 0, 3, 0, 3, 0, 3, 3, 0, 3, 0, 0, 2, 0,\n",
              "       0, 0, 2, 0, 3, 0, 3, 3, 1, 3, 1, 0, 3, 0, 0, 0, 1, 3, 3, 0, 2, 3,\n",
              "       3, 2, 0, 0, 2, 3, 3, 0, 2, 3, 0, 3, 3, 2, 3, 2, 0, 3, 0, 2, 0, 0,\n",
              "       0, 2, 3, 0, 3, 0, 0, 2, 3, 3, 3, 0, 3, 2, 3, 0, 2, 3, 2, 3, 2, 3,\n",
              "       3, 3, 1, 2, 0, 2, 2, 2, 1, 0, 2, 3, 2, 0, 2, 0, 2, 3, 2, 3, 1, 3,\n",
              "       3, 2, 3, 2, 0, 2, 2, 3, 2, 0, 0, 2, 2, 3, 2, 3, 0, 2, 2, 2, 2, 2,\n",
              "       2, 2, 2, 2, 2, 2, 3, 2, 0, 2, 0, 2, 0, 2, 0, 0, 3, 0, 2, 2, 2, 2,\n",
              "       3, 2, 3, 2, 2, 0, 1, 3, 0, 0, 0, 0, 2, 1, 1, 3, 0, 2, 3, 2, 3, 0,\n",
              "       2, 2, 2, 2, 2, 2, 0, 2, 3, 2, 2, 0, 2, 3, 2, 2, 3, 2, 3, 3, 0, 3,\n",
              "       2, 2, 2, 2, 1, 0, 2, 2, 2, 3, 0, 3, 0, 3, 2, 2, 0, 1, 3, 0, 3, 2,\n",
              "       2, 3, 1, 2, 0, 2, 2, 1, 3, 3, 0, 1, 0, 0, 0, 3, 3, 3, 2, 2, 2, 3,\n",
              "       3, 0, 3, 2, 3, 3, 0, 0, 0, 0, 3, 0, 1, 1, 3, 1, 1, 1, 1, 3, 1, 3,\n",
              "       1, 3, 2, 0, 0, 3, 3, 3, 1, 2, 0, 3, 1, 1, 3, 3, 1, 1, 0, 3, 2, 3,\n",
              "       2, 2, 2, 2, 3, 1, 0, 1, 3, 0, 2, 3, 2, 3, 0, 0, 2, 0, 2, 2, 3, 1,\n",
              "       3, 3, 0, 3, 0, 2, 3, 2, 2, 0, 0, 2, 2, 2, 1, 2, 0, 2, 2, 1, 0, 3,\n",
              "       3, 0, 0, 2, 2, 0, 2, 3, 1, 3, 3, 0, 1, 0, 3, 2, 0, 2, 0, 0, 1, 3,\n",
              "       3, 3, 3, 2, 2, 3, 3, 2, 2, 2, 2, 2, 1, 2, 2, 2, 1, 3, 3, 3, 2, 3,\n",
              "       0, 2, 0, 3, 2, 0, 3, 3, 3, 1, 3, 2, 3, 2, 0, 0, 2, 3, 2, 2, 2, 3,\n",
              "       2, 2, 3, 0, 3, 2, 2, 0, 2, 3, 0, 2, 3, 2, 2, 2, 0, 2, 2, 3, 2, 2,\n",
              "       2, 2, 2, 2, 2, 0, 3, 2, 3, 3, 1, 2, 0, 3, 2, 2, 1, 2, 3, 2, 3, 2,\n",
              "       3, 2, 3, 3, 2, 2, 3, 3, 2, 3, 2, 1, 2, 3, 1, 3, 2, 2, 3, 3, 3, 2,\n",
              "       3, 3, 3, 0, 3, 3, 3, 3, 0, 2, 1, 0, 0, 2, 0, 1, 0, 0, 3, 1, 2, 1,\n",
              "       0, 1, 3, 0, 0, 3, 2, 2, 2, 3, 0, 0, 3, 3, 0, 3, 3, 2, 2, 2, 0, 2,\n",
              "       2, 3, 3, 0, 0, 2])"
            ]
          },
          "metadata": {
            "tags": []
          },
          "execution_count": 44
        }
      ]
    },
    {
      "cell_type": "code",
      "metadata": {
        "id": "BLo3eby8pVi1"
      },
      "source": [
        "#splitting"
      ],
      "execution_count": null,
      "outputs": []
    },
    {
      "cell_type": "code",
      "metadata": {
        "id": "qIE8RTGlpVi1"
      },
      "source": [
        "from sklearn.model_selection import train_test_split\n",
        "x_train, x_test, y_train, y_test=train_test_split(x,y,test_size=0.2, random_state= 1)"
      ],
      "execution_count": null,
      "outputs": []
    },
    {
      "cell_type": "code",
      "metadata": {
        "colab": {
          "base_uri": "https://localhost:8080/"
        },
        "id": "5dWLrqe5pVi1",
        "outputId": "bb2cf53c-07b7-45cf-8c1c-538d37041f7a"
      },
      "source": [
        "print(x_train)"
      ],
      "execution_count": null,
      "outputs": [
        {
          "output_type": "stream",
          "text": [
            "[[1 0 1 ... 3 1 2]\n",
            " [1 1 1 ... 3 1 0]\n",
            " [0 0 1 ... 0 1 3]\n",
            " ...\n",
            " [0 0 0 ... 3 3 2]\n",
            " [0 0 1 ... 4 2 2]\n",
            " [1 0 1 ... 4 2 0]]\n"
          ],
          "name": "stdout"
        }
      ]
    },
    {
      "cell_type": "code",
      "metadata": {
        "colab": {
          "base_uri": "https://localhost:8080/"
        },
        "id": "RRLANnnLpVi1",
        "outputId": "c4f02400-62b6-4717-b3eb-d6e625613e98"
      },
      "source": [
        "print(x_test)"
      ],
      "execution_count": null,
      "outputs": [
        {
          "output_type": "stream",
          "text": [
            "[[0 0 0 ... 3 5 2]\n",
            " [1 1 0 ... 4 1 1]\n",
            " [1 0 1 ... 3 2 2]\n",
            " ...\n",
            " [0 1 1 ... 3 1 0]\n",
            " [1 0 2 ... 3 1 1]\n",
            " [1 1 2 ... 3 0 1]]\n"
          ],
          "name": "stdout"
        }
      ]
    },
    {
      "cell_type": "code",
      "metadata": {
        "id": "mulZMaripVi2"
      },
      "source": [
        "#training model using logistic regression"
      ],
      "execution_count": null,
      "outputs": []
    },
    {
      "cell_type": "code",
      "metadata": {
        "colab": {
          "base_uri": "https://localhost:8080/"
        },
        "id": "hi9r1iSkpVi2",
        "outputId": "73fe87c1-c930-417c-9dc4-481af1579ed9"
      },
      "source": [
        "from sklearn.linear_model import LogisticRegression\n",
        "lr = LogisticRegression()\n",
        "lr.fit(x_train, y_train)"
      ],
      "execution_count": null,
      "outputs": [
        {
          "output_type": "stream",
          "text": [
            "/usr/local/lib/python3.6/dist-packages/sklearn/linear_model/_logistic.py:940: ConvergenceWarning: lbfgs failed to converge (status=1):\n",
            "STOP: TOTAL NO. of ITERATIONS REACHED LIMIT.\n",
            "\n",
            "Increase the number of iterations (max_iter) or scale the data as shown in:\n",
            "    https://scikit-learn.org/stable/modules/preprocessing.html\n",
            "Please also refer to the documentation for alternative solver options:\n",
            "    https://scikit-learn.org/stable/modules/linear_model.html#logistic-regression\n",
            "  extra_warning_msg=_LOGISTIC_SOLVER_CONVERGENCE_MSG)\n"
          ],
          "name": "stderr"
        },
        {
          "output_type": "execute_result",
          "data": {
            "text/plain": [
              "LogisticRegression(C=1.0, class_weight=None, dual=False, fit_intercept=True,\n",
              "                   intercept_scaling=1, l1_ratio=None, max_iter=100,\n",
              "                   multi_class='auto', n_jobs=None, penalty='l2',\n",
              "                   random_state=None, solver='lbfgs', tol=0.0001, verbose=0,\n",
              "                   warm_start=False)"
            ]
          },
          "metadata": {
            "tags": []
          },
          "execution_count": 50
        }
      ]
    },
    {
      "cell_type": "code",
      "metadata": {
        "id": "J0LJ3ERipVi2"
      },
      "source": [
        "#making prediction now "
      ],
      "execution_count": null,
      "outputs": []
    },
    {
      "cell_type": "code",
      "metadata": {
        "id": "c66sZ6GspVi2"
      },
      "source": [
        "y_pred = lr.predict(x_test)"
      ],
      "execution_count": null,
      "outputs": []
    },
    {
      "cell_type": "code",
      "metadata": {
        "colab": {
          "base_uri": "https://localhost:8080/"
        },
        "id": "RV7roc4zpVi2",
        "outputId": "d91e8931-a8a5-4f77-b6d7-c9aeaffa7d7c"
      },
      "source": [
        "y_pred"
      ],
      "execution_count": null,
      "outputs": [
        {
          "output_type": "execute_result",
          "data": {
            "text/plain": [
              "array([2, 2, 2, 2, 3, 3, 2, 2, 3, 2, 0, 2, 2, 2, 2, 2, 3, 0, 0, 0, 3, 2,\n",
              "       0, 3, 3, 2, 0, 3, 0, 3, 2, 0, 2, 1, 0, 3, 3, 2, 2, 2, 3, 2, 2, 0,\n",
              "       0, 2, 2, 0, 2, 2, 0, 3, 2, 3, 2, 0, 0, 0, 3, 0, 2, 2, 2, 3, 2, 3,\n",
              "       3, 3, 3, 3, 3, 0, 2, 3, 2, 0, 3, 3, 2, 0, 3, 0, 0, 0, 0, 2, 2, 0,\n",
              "       0, 2, 2, 3, 2, 0, 2, 2, 2, 2, 3, 2, 2, 3, 0, 0, 0, 2, 3, 0, 3, 0,\n",
              "       3, 2, 3, 2, 3, 0, 3, 3, 0, 2, 0, 2, 2, 2, 3, 2, 2, 3, 2, 2, 3, 3,\n",
              "       1, 2, 0, 2, 0, 0, 0, 2, 2, 0, 2, 0, 2, 0, 2, 0, 3, 0, 3, 2, 0, 2,\n",
              "       2, 3, 0, 3, 3, 2, 3, 2, 3, 2, 2, 2, 0, 3, 2, 2, 1, 2, 2, 2, 2, 2,\n",
              "       2, 3, 0, 2, 3, 2, 3, 2, 2, 0, 2, 2, 3, 3, 2, 0, 3, 2, 0])"
            ]
          },
          "metadata": {
            "tags": []
          },
          "execution_count": 53
        }
      ]
    },
    {
      "cell_type": "code",
      "metadata": {
        "id": "DqcM7z4RpVi3"
      },
      "source": [
        "#gaining model speed using confusion matrix"
      ],
      "execution_count": null,
      "outputs": []
    },
    {
      "cell_type": "code",
      "metadata": {
        "colab": {
          "base_uri": "https://localhost:8080/"
        },
        "id": "MCrF2F9IpVi3",
        "outputId": "8489bc09-0bad-472d-a175-4c1fd762cb6c"
      },
      "source": [
        "from sklearn.metrics import confusion_matrix, accuracy_score\n",
        "cm=confusion_matrix(y_test,y_pred)\n",
        "print(cm)\n",
        "accuracy_score(y_test,y_pred)"
      ],
      "execution_count": null,
      "outputs": [
        {
          "output_type": "stream",
          "text": [
            "[[51  0  0  0]\n",
            " [ 0  2 15  7]\n",
            " [ 0  0 43 20]\n",
            " [ 0  1 29 27]]\n"
          ],
          "name": "stdout"
        },
        {
          "output_type": "execute_result",
          "data": {
            "text/plain": [
              "0.6307692307692307"
            ]
          },
          "metadata": {
            "tags": []
          },
          "execution_count": 55
        }
      ]
    },
    {
      "cell_type": "code",
      "metadata": {
        "id": "BMipk53xpVi3"
      },
      "source": [
        "#applying keras library to our model"
      ],
      "execution_count": null,
      "outputs": []
    },
    {
      "cell_type": "code",
      "metadata": {
        "id": "LKZXYBhGpVi3"
      },
      "source": [
        "from keras.models import Sequential\n",
        "from keras.layers import Dense\n",
        "from keras.wrappers.scikit_learn import KerasClassifier\n",
        "from keras.utils import np_utils\n",
        "from sklearn.model_selection import cross_val_score\n",
        "from sklearn.model_selection import KFold\n",
        "from sklearn.preprocessing import LabelEncoder\n",
        "from sklearn.pipeline import Pipeline"
      ],
      "execution_count": null,
      "outputs": []
    },
    {
      "cell_type": "code",
      "metadata": {
        "id": "GkHcs-CmpVi4"
      },
      "source": [
        "def get_model():\n",
        "  model = Sequential()\n",
        "  model.add(Dense(40, input_dim=20, activation='relu'))\n",
        "  model.add(Dense(4, activation='softmax'))\n",
        "  # Compile model\n",
        "  model.compile(loss='categorical_crossentropy', optimizer='adam', metrics=['accuracy'])\n",
        "  return model"
      ],
      "execution_count": null,
      "outputs": []
    },
    {
      "cell_type": "code",
      "metadata": {
        "colab": {
          "base_uri": "https://localhost:8080/"
        },
        "id": "NOCuwG3Fpqt9",
        "outputId": "8a550952-327d-4c28-b153-8989f0ed0b9c"
      },
      "source": [
        "print(x_train.shape,y_train.shape)"
      ],
      "execution_count": null,
      "outputs": [
        {
          "output_type": "stream",
          "text": [
            "(779, 20) (779,)\n"
          ],
          "name": "stdout"
        }
      ]
    },
    {
      "cell_type": "code",
      "metadata": {
        "colab": {
          "base_uri": "https://localhost:8080/"
        },
        "id": "sDve0PrNptm8",
        "outputId": "9dbb5282-64bf-49b1-b41c-73ecf6fe2bc4"
      },
      "source": [
        "estimator = KerasClassifier(build_fn=get_model, epochs=10, batch_size=5, verbose=0)\n",
        "kfold = KFold(n_splits=10, shuffle=True)\n",
        "results = cross_val_score(estimator,x, y, cv=kfold)\n",
        "print(\"Baseline: %.2f%% (%.2f%%)\" % (results.mean()*100, results.std()*100))"
      ],
      "execution_count": null,
      "outputs": [
        {
          "output_type": "stream",
          "text": [
            "Baseline: 57.70% (6.51%)\n"
          ],
          "name": "stdout"
        }
      ]
    },
    {
      "cell_type": "code",
      "metadata": {
        "id": "ds-CcvVQrQfT"
      },
      "source": [
        "y_train = y_train.reshape(779,1)"
      ],
      "execution_count": null,
      "outputs": []
    },
    {
      "cell_type": "code",
      "metadata": {
        "colab": {
          "base_uri": "https://localhost:8080/"
        },
        "id": "AvvVzcNCr6VY",
        "outputId": "17544e09-e32b-4d9e-e819-c6a3ae96c238"
      },
      "source": [
        "y_train.shape"
      ],
      "execution_count": null,
      "outputs": [
        {
          "output_type": "execute_result",
          "data": {
            "text/plain": [
              "(779, 1)"
            ]
          },
          "metadata": {
            "tags": []
          },
          "execution_count": 62
        }
      ]
    }
  ]
}